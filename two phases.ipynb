{
 "cells": [
  {
   "cell_type": "code",
   "execution_count": 2,
   "id": "5f4bfafb",
   "metadata": {},
   "outputs": [
    {
     "name": "stdout",
     "output_type": "stream",
     "text": [
      "[('Identifier', 'inu'), ('Identifier', 'x'), ('Operator', '='), ('Constant', '10'), ('Special_Symbol', ';')]\n",
      "Invalid Syntax\n"
     ]
    }
   ],
   "source": [
    "\n",
    "import re\n",
    "\n",
    "# Token patterns using regular expressions\n",
    "patterns = [\n",
    "    ('Keyword', r'(if|int|else|switch|typedef|union|unsigned|short|signed|void|long|register|sizeof|static|volatile|while|auto|break|case|char|const|continue|default|do|double|enum|extern|return|struct|float|for|goto)'),\n",
    "    ('Operator', r'=|\\+|-|\\*|/|%'),\n",
    "    ('Special_Symbol', r';'),\n",
    "    ('Constant', r'\\d+'),\n",
    "    ('Identifier', r'[a-zA-Z_]\\w*'),\n",
    "]\n",
    "\n",
    "# Tokenize function\n",
    "def tokenize(code, patterns):\n",
    "    tokens = []\n",
    "    while code:\n",
    "        found_match = False\n",
    "        for token_name, pattern in patterns:\n",
    "            regex = re.compile(r'\\A(' + pattern + r')')  # Anchor pattern to the start of the code\n",
    "            match = regex.match(code)\n",
    "            if match:\n",
    "                value = match.group(1)\n",
    "                tokens.append((token_name, value))\n",
    "                code = code[len(value):].lstrip()\n",
    "                found_match = True\n",
    "                break  # Break the loop to start matching patterns again from the beginning\n",
    "        if not found_match:\n",
    "            raise ValueError(f\"Invalid token at: {code}\")\n",
    "    return tokens\n",
    "\n",
    "# Sample code\n",
    "sample_code = \"inu x = 10;\"\n",
    "sample_tokens = tokenize(sample_code, patterns)\n",
    "print(sample_tokens)\n",
    "\n",
    "# Syntax analysis and parse tree\n",
    "def parse(tokens):\n",
    "    if (len(tokens) == 5 and \n",
    "        tokens[0][0] == 'Keyword' and \n",
    "        tokens[1][0] == 'Identifier' and \n",
    "        tokens[2][0] == 'Operator' and \n",
    "        tokens[3][0] == 'Constant' and \n",
    "        tokens[4][0] == 'Special_Symbol'):\n",
    "        \n",
    "        parse_tree = {\n",
    "            'Declaration': {\n",
    "                'keyward': tokens[0][1],\n",
    "                'identifier': tokens[1][1],\n",
    "                'Assignment': {\n",
    "                    'Operator': tokens[2][1],\n",
    "                    'number': tokens[3][1]\n",
    "                }\n",
    "            }\n",
    "        }\n",
    "        return 'Valid Syntax: Declaration of int variable', parse_tree\n",
    "    else:\n",
    "        return 'Invalid Syntax', None\n",
    "\n",
    "# Parse tokens and generate parse tree\n",
    "result, tree = parse(sample_tokens)\n",
    "print(result)\n",
    "if tree:\n",
    "    print(\"Parse Tree:\", tree)\n",
    "\n",
    "\n",
    "# In[ ]:\n",
    "\n",
    "\n",
    "\n",
    "\n"
   ]
  },
  {
   "cell_type": "code",
   "execution_count": null,
   "id": "aabe44a6",
   "metadata": {},
   "outputs": [],
   "source": []
  }
 ],
 "metadata": {
  "kernelspec": {
   "display_name": "Python 3 (ipykernel)",
   "language": "python",
   "name": "python3"
  },
  "language_info": {
   "codemirror_mode": {
    "name": "ipython",
    "version": 3
   },
   "file_extension": ".py",
   "mimetype": "text/x-python",
   "name": "python",
   "nbconvert_exporter": "python",
   "pygments_lexer": "ipython3",
   "version": "3.9.13"
  }
 },
 "nbformat": 4,
 "nbformat_minor": 5
}
