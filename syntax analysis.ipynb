{
 "cells": [
  {
   "cell_type": "code",
   "execution_count": 2,
   "id": "6391b09f",
   "metadata": {},
   "outputs": [
    {
     "name": "stdout",
     "output_type": "stream",
     "text": [
      "the grammar is \n",
      "S -> aBb/ccA\n",
      "A -> b/c\n",
      "B -> a/b\n",
      "Enter the string: abbc\n",
      "This string is invalid\n"
     ]
    }
   ],
   "source": [
    "print(\"the grammar is \")\n",
    "print(\"S -> aBb/ccA\")\n",
    "print(\"A -> b/c\")\n",
    "print(\"B -> a/b\")\n",
    "\n",
    "def S():\n",
    "    global j\n",
    "    if j < len(m):\n",
    "        if m[j] == 'a':\n",
    "            j += 1\n",
    "            B()\n",
    "            if j < len(m) and m[j] == 'b':\n",
    "                j += 1\n",
    "            else:\n",
    "                error()\n",
    "        elif m[j] == 'c':\n",
    "            j += 1\n",
    "            if j < len(m) and m[j] == 'c':\n",
    "                j += 1\n",
    "                A()\n",
    "            else:\n",
    "                error()\n",
    "        else:\n",
    "            error()\n",
    "    else:\n",
    "        error()\n",
    "\n",
    "def A():\n",
    "    global j\n",
    "    if j < len(m) and (m[j] == 'b' or m[j] == 'c'):\n",
    "        j += 1\n",
    "    else:\n",
    "        error()\n",
    "\n",
    "def B():\n",
    "    global j\n",
    "    if j < len(m) and (m[j] == 'a' or m[j] == 'b'):\n",
    "        j += 1\n",
    "    else:\n",
    "        error()\n",
    "\n",
    "def error():\n",
    "    print(\"String is invalid\")\n",
    "\n",
    "\n",
    "m = input(\"Enter the string: \")\n",
    "j = 0\n",
    "\n",
    "S()\n",
    "\n",
    "if j == len(m):\n",
    "    print(\"This string is valid\")\n",
    "else:\n",
    "    print(\"This string is invalid\")"
   ]
  },
  {
   "cell_type": "code",
   "execution_count": null,
   "id": "27bfddb9",
   "metadata": {},
   "outputs": [],
   "source": []
  },
  {
   "cell_type": "code",
   "execution_count": null,
   "id": "032ab04c",
   "metadata": {},
   "outputs": [],
   "source": []
  }
 ],
 "metadata": {
  "kernelspec": {
   "display_name": "Python 3 (ipykernel)",
   "language": "python",
   "name": "python3"
  },
  "language_info": {
   "codemirror_mode": {
    "name": "ipython",
    "version": 3
   },
   "file_extension": ".py",
   "mimetype": "text/x-python",
   "name": "python",
   "nbconvert_exporter": "python",
   "pygments_lexer": "ipython3",
   "version": "3.9.13"
  }
 },
 "nbformat": 4,
 "nbformat_minor": 5
}
