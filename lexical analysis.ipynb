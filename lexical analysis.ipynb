{
 "cells": [
  {
   "cell_type": "code",
   "execution_count": 1,
   "id": "989ba274",
   "metadata": {},
   "outputs": [
    {
     "name": "stdout",
     "output_type": "stream",
     "text": [
      "void is keyword\n",
      "main : identifier\n",
      "int is keyword\n",
      "c : identifier\n",
      "f : identifier\n",
      "g : identifier\n",
      "c : identifier\n",
      "= : operator\n",
      "f : identifier\n",
      "+ : operator\n",
      "g : identifier\n"
     ]
    }
   ],
   "source": [
    "keywords = [\"if\", \"int\", \"else\", \"switch\", \"typedef\", \"union\", \"unsigned\", \"short\", \"signed\", \"void\", \"long\", \"register\",\n",
    "            \"sizeof\", \"static\", \"volatile\", \"while\", \"auto\", \"break\", \"case\", \"char\", \"const\", \"continue\", \"default\",\n",
    "            \"do\", \"double\", \"enum\", \"extern\", \"return\", \"struct\", \"float\", \"for\", \"goto\"]\n",
    "\n",
    "operators = \"+-*/%=\"\n",
    "\n",
    "def match_keyword(word):\n",
    "    return word in keywords\n",
    "\n",
    "file_name = \"m.txt\"\n",
    "\n",
    "try:\n",
    "    with open(file_name, 'r') as file:\n",
    "        while True:\n",
    "            my_char = file.read(1)\n",
    "\n",
    "            if not my_char:\n",
    "                break\n",
    "\n",
    "            if my_char in operators:\n",
    "                print(my_char + \" : operator\")\n",
    "\n",
    "            if my_char.isalnum():\n",
    "                my_buf = my_char\n",
    "                while True:\n",
    "                    next_char = file.read(1)\n",
    "                    if next_char.isalnum():\n",
    "                        my_buf += next_char\n",
    "                    else:\n",
    "                        file.seek(file.tell() - 1)\n",
    "                        break\n",
    "\n",
    "                if match_keyword(my_buf):\n",
    "                    print(my_buf + \" is keyword\")\n",
    "                else:\n",
    "                    print(my_buf + \" : identifier\")\n",
    "\n",
    "except FileNotFoundError:\n",
    "    print(\"There was an issue opening the file.\")"
   ]
  },
  {
   "cell_type": "code",
   "execution_count": null,
   "id": "411460e5",
   "metadata": {},
   "outputs": [],
   "source": []
  }
 ],
 "metadata": {
  "kernelspec": {
   "display_name": "Python 3 (ipykernel)",
   "language": "python",
   "name": "python3"
  },
  "language_info": {
   "codemirror_mode": {
    "name": "ipython",
    "version": 3
   },
   "file_extension": ".py",
   "mimetype": "text/x-python",
   "name": "python",
   "nbconvert_exporter": "python",
   "pygments_lexer": "ipython3",
   "version": "3.9.13"
  }
 },
 "nbformat": 4,
 "nbformat_minor": 5
}
